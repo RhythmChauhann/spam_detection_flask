{
 "cells": [
  {
   "cell_type": "code",
   "execution_count": 14,
   "id": "b6482987-53f0-4ce0-ba82-a66df8780111",
   "metadata": {},
   "outputs": [
    {
     "name": "stderr",
     "output_type": "stream",
     "text": [
      "WARNING:absl:Compiled the loaded model, but the compiled metrics have yet to be built. `model.compile_metrics` will be empty until you train or evaluate the model.\n"
     ]
    },
    {
     "name": "stdout",
     "output_type": "stream",
     "text": [
      "\u001b[1m1/1\u001b[0m \u001b[32m━━━━━━━━━━━━━━━━━━━━\u001b[0m\u001b[37m\u001b[0m \u001b[1m0s\u001b[0m 266ms/step\n",
      "Prediction:  spam\n"
     ]
    }
   ],
   "source": [
    "from keras.models import load_model, Model\n",
    "from keras.preprocessing.sequence import pad_sequences\n",
    "import joblib\n",
    "loaded_lstm = load_model(\"lstm_model.h5\")\n",
    "loaded_clf = joblib.load(\"logistic_model.joblib\")\n",
    "loaded_tokenizer = joblib.load(\"tokenizer.joblib\")\n",
    "embedding_model = Model(inputs=loaded_lstm.input,\n",
    "                       outputs=loaded_lstm.get_layer(\"lstm_layer\").output\n",
    ")\n",
    "\n",
    "email = [\"freeprize@lottery.com\"]\n",
    "seq = loaded_tokenizer.texts_to_sequences(email)\n",
    "pad = pad_sequences(seq,maxlen = 30, padding='post')\n",
    "X_embed = embedding_model.predict(pad)\n",
    "pred = loaded_clf.predict(X_embed)\n",
    "\n",
    "\n",
    "label = \"spam\" if pred[0] ==1 else \"ham\"\n",
    "print(\"Prediction: \", label)"
   ]
  },
  {
   "cell_type": "code",
   "execution_count": null,
   "id": "48891050-ea93-40bf-8525-4734e86ac9a1",
   "metadata": {},
   "outputs": [],
   "source": []
  },
  {
   "cell_type": "code",
   "execution_count": null,
   "id": "8105423f-8d74-4499-9e4c-b685ccbdee34",
   "metadata": {},
   "outputs": [],
   "source": []
  }
 ],
 "metadata": {
  "kernelspec": {
   "display_name": "Python [conda env:base] *",
   "language": "python",
   "name": "conda-base-py"
  },
  "language_info": {
   "codemirror_mode": {
    "name": "ipython",
    "version": 3
   },
   "file_extension": ".py",
   "mimetype": "text/x-python",
   "name": "python",
   "nbconvert_exporter": "python",
   "pygments_lexer": "ipython3",
   "version": "3.12.7"
  }
 },
 "nbformat": 4,
 "nbformat_minor": 5
}
